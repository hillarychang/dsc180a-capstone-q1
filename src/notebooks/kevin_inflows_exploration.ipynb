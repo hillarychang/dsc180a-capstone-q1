{
 "cells": [
  {
   "cell_type": "code",
   "execution_count": 1,
   "metadata": {},
   "outputs": [],
   "source": [
    "import pandas as pd\n",
    "import numpy as np"
   ]
  },
  {
   "cell_type": "code",
   "execution_count": 63,
   "metadata": {},
   "outputs": [
    {
     "data": {
      "text/html": [
       "<div>\n",
       "<style scoped>\n",
       "    .dataframe tbody tr th:only-of-type {\n",
       "        vertical-align: middle;\n",
       "    }\n",
       "\n",
       "    .dataframe tbody tr th {\n",
       "        vertical-align: top;\n",
       "    }\n",
       "\n",
       "    .dataframe thead th {\n",
       "        text-align: right;\n",
       "    }\n",
       "</style>\n",
       "<table border=\"1\" class=\"dataframe\">\n",
       "  <thead>\n",
       "    <tr style=\"text-align: right;\">\n",
       "      <th></th>\n",
       "      <th>prism_consumer_id</th>\n",
       "      <th>prism_account_id</th>\n",
       "      <th>memo</th>\n",
       "      <th>amount</th>\n",
       "      <th>posted_date</th>\n",
       "      <th>category</th>\n",
       "    </tr>\n",
       "  </thead>\n",
       "  <tbody>\n",
       "    <tr>\n",
       "      <th>0</th>\n",
       "      <td>0</td>\n",
       "      <td>acc_0</td>\n",
       "      <td>PAYCHECK</td>\n",
       "      <td>2477.02</td>\n",
       "      <td>2022-03-18</td>\n",
       "      <td>PAYCHECK</td>\n",
       "    </tr>\n",
       "    <tr>\n",
       "      <th>1</th>\n",
       "      <td>0</td>\n",
       "      <td>acc_0</td>\n",
       "      <td>EXTERNAL_TRANSFER</td>\n",
       "      <td>100.00</td>\n",
       "      <td>2022-10-25</td>\n",
       "      <td>EXTERNAL_TRANSFER</td>\n",
       "    </tr>\n",
       "    <tr>\n",
       "      <th>2</th>\n",
       "      <td>0</td>\n",
       "      <td>acc_0</td>\n",
       "      <td>MISCELLANEOUS</td>\n",
       "      <td>6.29</td>\n",
       "      <td>2022-08-26</td>\n",
       "      <td>MISCELLANEOUS</td>\n",
       "    </tr>\n",
       "    <tr>\n",
       "      <th>3</th>\n",
       "      <td>0</td>\n",
       "      <td>acc_0</td>\n",
       "      <td>EXTERNAL_TRANSFER</td>\n",
       "      <td>277.00</td>\n",
       "      <td>2022-06-03</td>\n",
       "      <td>EXTERNAL_TRANSFER</td>\n",
       "    </tr>\n",
       "    <tr>\n",
       "      <th>4</th>\n",
       "      <td>0</td>\n",
       "      <td>acc_0</td>\n",
       "      <td>EXTERNAL_TRANSFER</td>\n",
       "      <td>100.00</td>\n",
       "      <td>2022-07-29</td>\n",
       "      <td>EXTERNAL_TRANSFER</td>\n",
       "    </tr>\n",
       "    <tr>\n",
       "      <th>...</th>\n",
       "      <td>...</td>\n",
       "      <td>...</td>\n",
       "      <td>...</td>\n",
       "      <td>...</td>\n",
       "      <td>...</td>\n",
       "      <td>...</td>\n",
       "    </tr>\n",
       "    <tr>\n",
       "      <th>513110</th>\n",
       "      <td>5941</td>\n",
       "      <td>acc_9524</td>\n",
       "      <td>EXTERNAL_TRANSFER</td>\n",
       "      <td>8.66</td>\n",
       "      <td>2023-01-21</td>\n",
       "      <td>EXTERNAL_TRANSFER</td>\n",
       "    </tr>\n",
       "    <tr>\n",
       "      <th>513111</th>\n",
       "      <td>5941</td>\n",
       "      <td>acc_9524</td>\n",
       "      <td>EXTERNAL_TRANSFER</td>\n",
       "      <td>267.13</td>\n",
       "      <td>2023-01-23</td>\n",
       "      <td>EXTERNAL_TRANSFER</td>\n",
       "    </tr>\n",
       "    <tr>\n",
       "      <th>513112</th>\n",
       "      <td>5941</td>\n",
       "      <td>acc_9524</td>\n",
       "      <td>EXTERNAL_TRANSFER</td>\n",
       "      <td>2.00</td>\n",
       "      <td>2023-01-24</td>\n",
       "      <td>EXTERNAL_TRANSFER</td>\n",
       "    </tr>\n",
       "    <tr>\n",
       "      <th>513113</th>\n",
       "      <td>5941</td>\n",
       "      <td>acc_9524</td>\n",
       "      <td>EXTERNAL_TRANSFER</td>\n",
       "      <td>207.16</td>\n",
       "      <td>2023-01-24</td>\n",
       "      <td>EXTERNAL_TRANSFER</td>\n",
       "    </tr>\n",
       "    <tr>\n",
       "      <th>513114</th>\n",
       "      <td>5941</td>\n",
       "      <td>acc_9524</td>\n",
       "      <td>EXTERNAL_TRANSFER</td>\n",
       "      <td>281.71</td>\n",
       "      <td>2023-01-25</td>\n",
       "      <td>EXTERNAL_TRANSFER</td>\n",
       "    </tr>\n",
       "  </tbody>\n",
       "</table>\n",
       "<p>513115 rows × 6 columns</p>\n",
       "</div>"
      ],
      "text/plain": [
       "        prism_consumer_id prism_account_id               memo   amount  \\\n",
       "0                       0            acc_0           PAYCHECK  2477.02   \n",
       "1                       0            acc_0  EXTERNAL_TRANSFER   100.00   \n",
       "2                       0            acc_0      MISCELLANEOUS     6.29   \n",
       "3                       0            acc_0  EXTERNAL_TRANSFER   277.00   \n",
       "4                       0            acc_0  EXTERNAL_TRANSFER   100.00   \n",
       "...                   ...              ...                ...      ...   \n",
       "513110               5941         acc_9524  EXTERNAL_TRANSFER     8.66   \n",
       "513111               5941         acc_9524  EXTERNAL_TRANSFER   267.13   \n",
       "513112               5941         acc_9524  EXTERNAL_TRANSFER     2.00   \n",
       "513113               5941         acc_9524  EXTERNAL_TRANSFER   207.16   \n",
       "513114               5941         acc_9524  EXTERNAL_TRANSFER   281.71   \n",
       "\n",
       "       posted_date           category  \n",
       "0       2022-03-18           PAYCHECK  \n",
       "1       2022-10-25  EXTERNAL_TRANSFER  \n",
       "2       2022-08-26      MISCELLANEOUS  \n",
       "3       2022-06-03  EXTERNAL_TRANSFER  \n",
       "4       2022-07-29  EXTERNAL_TRANSFER  \n",
       "...            ...                ...  \n",
       "513110  2023-01-21  EXTERNAL_TRANSFER  \n",
       "513111  2023-01-23  EXTERNAL_TRANSFER  \n",
       "513112  2023-01-24  EXTERNAL_TRANSFER  \n",
       "513113  2023-01-24  EXTERNAL_TRANSFER  \n",
       "513114  2023-01-25  EXTERNAL_TRANSFER  \n",
       "\n",
       "[513115 rows x 6 columns]"
      ]
     },
     "execution_count": 63,
     "metadata": {},
     "output_type": "execute_result"
    }
   ],
   "source": [
    "data = pd.read_parquet(\"../data/ucsd-inflows.pqt\")\n",
    "data"
   ]
  },
  {
   "cell_type": "code",
   "execution_count": 16,
   "metadata": {},
   "outputs": [
    {
     "data": {
      "text/plain": [
       "<pandas.core.groupby.generic.DataFrameGroupBy object at 0x1780308d0>"
      ]
     },
     "execution_count": 16,
     "metadata": {},
     "output_type": "execute_result"
    }
   ],
   "source": [
    "consumer_stats = data.groupby(\"prism_consumer_id\")\n",
    "consumer_stats"
   ]
  },
  {
   "cell_type": "code",
   "execution_count": 20,
   "metadata": {},
   "outputs": [
    {
     "data": {
      "text/plain": [
       "prism_consumer_id\n",
       "0        91\n",
       "2       113\n",
       "4       152\n",
       "7       129\n",
       "9       375\n",
       "       ... \n",
       "5930    210\n",
       "5935     83\n",
       "5939     91\n",
       "5940    440\n",
       "5941    297\n",
       "Name: amount, Length: 2974, dtype: int64"
      ]
     },
     "execution_count": 20,
     "metadata": {},
     "output_type": "execute_result"
    }
   ],
   "source": [
    "# determine amount of transactions per customer\n",
    "customer_transactions = consumer_stats['amount'].count()\n",
    "customer_transactions"
   ]
  },
  {
   "cell_type": "code",
   "execution_count": 21,
   "metadata": {},
   "outputs": [
    {
     "data": {
      "text/plain": [
       "172.5336247478144"
      ]
     },
     "execution_count": 21,
     "metadata": {},
     "output_type": "execute_result"
    }
   ],
   "source": [
    "# There are 2974 individual customers, and we determine the average number of transactions per individual customer here\n",
    "customer_transactions.mean()"
   ]
  },
  {
   "cell_type": "code",
   "execution_count": 23,
   "metadata": {},
   "outputs": [
    {
     "data": {
      "text/plain": [
       "prism_consumer_id\n",
       "0       1212.224505\n",
       "2       3094.150708\n",
       "4       3043.144079\n",
       "7       1939.644109\n",
       "9        574.245360\n",
       "           ...     \n",
       "5930     605.605286\n",
       "5935     164.338916\n",
       "5939     372.336813\n",
       "5940     153.301045\n",
       "5941     197.420572\n",
       "Name: amount, Length: 2974, dtype: float64"
      ]
     },
     "execution_count": 23,
     "metadata": {},
     "output_type": "execute_result"
    }
   ],
   "source": [
    "# determine total mean of transactions per individual customer\n",
    "cost_transactions = consumer_stats['amount'].mean()\n",
    "cost_transactions"
   ]
  },
  {
   "cell_type": "code",
   "execution_count": 24,
   "metadata": {},
   "outputs": [
    {
     "data": {
      "text/plain": [
       "876.8506062831314"
      ]
     },
     "execution_count": 24,
     "metadata": {},
     "output_type": "execute_result"
    }
   ],
   "source": [
    "# determine total mean of all transactions\n",
    "cost_transactions.mean()"
   ]
  },
  {
   "cell_type": "code",
   "execution_count": 32,
   "metadata": {},
   "outputs": [
    {
     "data": {
      "text/plain": [
       "array(['PAYCHECK', 'EXTERNAL_TRANSFER', 'MISCELLANEOUS',\n",
       "       'INVESTMENT_INCOME', 'TAX', 'DEPOSIT', 'SELF_TRANSFER', 'REFUND',\n",
       "       'PAYCHECK_PLACEHOLDER', 'INSURANCE', 'OTHER_BENEFITS',\n",
       "       'UNEMPLOYMENT_BENEFITS', 'LOAN', 'SMALL_DOLLAR_ADVANCE'],\n",
       "      dtype=object)"
      ]
     },
     "execution_count": 32,
     "metadata": {},
     "output_type": "execute_result"
    }
   ],
   "source": [
    "# determine income categories that we want to use\n",
    "data['category'].unique()"
   ]
  },
  {
   "cell_type": "code",
   "execution_count": 82,
   "metadata": {},
   "outputs": [
    {
     "data": {
      "text/plain": [
       "array(['PAYCHECK', 'EXTERNAL_TRANSFER', 'MISCELLANEOUS',\n",
       "       'INVESTMENT_INCOME', 'TAX', 'DEPOSIT', 'SELF_TRANSFER', 'REFUND',\n",
       "       'INSURANCE', 'OTHER_BENEFITS', 'UNEMPLOYMENT_BENEFITS', 'LOAN',\n",
       "       'SMALL_DOLLAR_ADVANCE'], dtype=object)"
      ]
     },
     "execution_count": 82,
     "metadata": {},
     "output_type": "execute_result"
    }
   ],
   "source": [
    "# divide by the category of the transactions\n",
    "cleaned_data = data.copy()\n",
    "cleaned_data = cleaned_data.replace('PAYCHECK_PLACEHOLDER', 'PAYCHECK')\n",
    "cleaned_data['category'].unique()"
   ]
  },
  {
   "cell_type": "code",
   "execution_count": 83,
   "metadata": {},
   "outputs": [],
   "source": [
    "cleaned_data = cleaned_data[\n",
    "    cleaned_data[\"category\"].isin(\n",
    "        [\n",
    "            \"PAYCHECK\",\n",
    "            \"EXTERNAL_TRANSFER\",\n",
    "            \"INVESTMENT_INCOME\",\n",
    "            \"DEPOSIT\",\n",
    "            \"PAYCHECK_PLACEHOLDER\",\n",
    "            \"INSURANCE\",\n",
    "            \"OTHER_BENEFITS\",\n",
    "            \"UNEMPLOYMENT_BENEFITS\",\n",
    "        ]\n",
    "    )\n",
    "]\n",
    "transaction_category = cleaned_data.groupby([\"prism_consumer_id\", \"category\"])"
   ]
  },
  {
   "cell_type": "code",
   "execution_count": 84,
   "metadata": {},
   "outputs": [],
   "source": [
    "# create specific dataframes for the total amount gained in income from certain categories, and also mean amount\n",
    "category_sums = pd.DataFrame(transaction_category['amount'].sum())\n",
    "category_sums = category_sums.reset_index()"
   ]
  },
  {
   "cell_type": "code",
   "execution_count": 91,
   "metadata": {},
   "outputs": [],
   "source": [
    "# get user totals so we can divide to find percentage\n",
    "user_totals = cleaned_data.groupby('prism_consumer_id')['amount'].sum().reset_index()\n",
    "user_totals = user_totals.rename(columns = {'amount': 'total_income'})"
   ]
  },
  {
   "cell_type": "code",
   "execution_count": 92,
   "metadata": {},
   "outputs": [],
   "source": [
    "# merge, then divide to get percentages\n",
    "merged_df = category_sums.merge(user_totals, on=\"prism_consumer_id\")\n",
    "merged_df[\"percentage\"] = (merged_df[\"amount\"] / merged_df[\"total_income\"] * 100).round(2)\n"
   ]
  },
  {
   "cell_type": "code",
   "execution_count": 94,
   "metadata": {},
   "outputs": [
    {
     "data": {
      "text/html": [
       "<div>\n",
       "<style scoped>\n",
       "    .dataframe tbody tr th:only-of-type {\n",
       "        vertical-align: middle;\n",
       "    }\n",
       "\n",
       "    .dataframe tbody tr th {\n",
       "        vertical-align: top;\n",
       "    }\n",
       "\n",
       "    .dataframe thead th {\n",
       "        text-align: right;\n",
       "    }\n",
       "</style>\n",
       "<table border=\"1\" class=\"dataframe\">\n",
       "  <thead>\n",
       "    <tr style=\"text-align: right;\">\n",
       "      <th></th>\n",
       "      <th>prism_consumer_id</th>\n",
       "      <th>category</th>\n",
       "      <th>amount</th>\n",
       "      <th>total_income</th>\n",
       "      <th>percentage</th>\n",
       "    </tr>\n",
       "  </thead>\n",
       "  <tbody>\n",
       "    <tr>\n",
       "      <th>0</th>\n",
       "      <td>0</td>\n",
       "      <td>DEPOSIT</td>\n",
       "      <td>3375.18</td>\n",
       "      <td>105654.93</td>\n",
       "      <td>3.19</td>\n",
       "    </tr>\n",
       "    <tr>\n",
       "      <th>1</th>\n",
       "      <td>0</td>\n",
       "      <td>EXTERNAL_TRANSFER</td>\n",
       "      <td>42090.58</td>\n",
       "      <td>105654.93</td>\n",
       "      <td>39.84</td>\n",
       "    </tr>\n",
       "    <tr>\n",
       "      <th>2</th>\n",
       "      <td>0</td>\n",
       "      <td>INVESTMENT_INCOME</td>\n",
       "      <td>0.52</td>\n",
       "      <td>105654.93</td>\n",
       "      <td>0.00</td>\n",
       "    </tr>\n",
       "    <tr>\n",
       "      <th>3</th>\n",
       "      <td>0</td>\n",
       "      <td>PAYCHECK</td>\n",
       "      <td>60188.65</td>\n",
       "      <td>105654.93</td>\n",
       "      <td>56.97</td>\n",
       "    </tr>\n",
       "  </tbody>\n",
       "</table>\n",
       "</div>"
      ],
      "text/plain": [
       "   prism_consumer_id           category    amount  total_income  percentage\n",
       "0                  0            DEPOSIT   3375.18     105654.93        3.19\n",
       "1                  0  EXTERNAL_TRANSFER  42090.58     105654.93       39.84\n",
       "2                  0  INVESTMENT_INCOME      0.52     105654.93        0.00\n",
       "3                  0           PAYCHECK  60188.65     105654.93       56.97"
      ]
     },
     "execution_count": 94,
     "metadata": {},
     "output_type": "execute_result"
    }
   ],
   "source": [
    "merged_df[merged_df['prism_consumer_id'] == 0]"
   ]
  },
  {
   "cell_type": "code",
   "execution_count": 95,
   "metadata": {},
   "outputs": [],
   "source": [
    "# create pivot table for better vis\n",
    "pivot_table = merged_df.pivot(index = 'prism_consumer_id',\n",
    "                              columns = 'category',\n",
    "                              values = 'percentage')\n",
    "\n",
    "# if someone's income is not represented by a category, fill NA values with 0\n",
    "pivot_table = pivot_table.fillna(0)"
   ]
  },
  {
   "cell_type": "code",
   "execution_count": 96,
   "metadata": {},
   "outputs": [
    {
     "data": {
      "text/html": [
       "<div>\n",
       "<style scoped>\n",
       "    .dataframe tbody tr th:only-of-type {\n",
       "        vertical-align: middle;\n",
       "    }\n",
       "\n",
       "    .dataframe tbody tr th {\n",
       "        vertical-align: top;\n",
       "    }\n",
       "\n",
       "    .dataframe thead th {\n",
       "        text-align: right;\n",
       "    }\n",
       "</style>\n",
       "<table border=\"1\" class=\"dataframe\">\n",
       "  <thead>\n",
       "    <tr style=\"text-align: right;\">\n",
       "      <th>category</th>\n",
       "      <th>DEPOSIT</th>\n",
       "      <th>EXTERNAL_TRANSFER</th>\n",
       "      <th>INSURANCE</th>\n",
       "      <th>INVESTMENT_INCOME</th>\n",
       "      <th>OTHER_BENEFITS</th>\n",
       "      <th>PAYCHECK</th>\n",
       "      <th>UNEMPLOYMENT_BENEFITS</th>\n",
       "    </tr>\n",
       "    <tr>\n",
       "      <th>prism_consumer_id</th>\n",
       "      <th></th>\n",
       "      <th></th>\n",
       "      <th></th>\n",
       "      <th></th>\n",
       "      <th></th>\n",
       "      <th></th>\n",
       "      <th></th>\n",
       "    </tr>\n",
       "  </thead>\n",
       "  <tbody>\n",
       "    <tr>\n",
       "      <th>0</th>\n",
       "      <td>3.19</td>\n",
       "      <td>39.84</td>\n",
       "      <td>0.00</td>\n",
       "      <td>0.00</td>\n",
       "      <td>0.00</td>\n",
       "      <td>56.97</td>\n",
       "      <td>0.00</td>\n",
       "    </tr>\n",
       "    <tr>\n",
       "      <th>2</th>\n",
       "      <td>13.69</td>\n",
       "      <td>4.83</td>\n",
       "      <td>0.02</td>\n",
       "      <td>81.46</td>\n",
       "      <td>0.00</td>\n",
       "      <td>0.00</td>\n",
       "      <td>0.00</td>\n",
       "    </tr>\n",
       "    <tr>\n",
       "      <th>4</th>\n",
       "      <td>15.01</td>\n",
       "      <td>3.60</td>\n",
       "      <td>0.00</td>\n",
       "      <td>0.00</td>\n",
       "      <td>0.00</td>\n",
       "      <td>81.40</td>\n",
       "      <td>0.00</td>\n",
       "    </tr>\n",
       "    <tr>\n",
       "      <th>7</th>\n",
       "      <td>0.04</td>\n",
       "      <td>1.07</td>\n",
       "      <td>0.00</td>\n",
       "      <td>0.35</td>\n",
       "      <td>0.00</td>\n",
       "      <td>98.55</td>\n",
       "      <td>0.00</td>\n",
       "    </tr>\n",
       "    <tr>\n",
       "      <th>9</th>\n",
       "      <td>56.23</td>\n",
       "      <td>12.70</td>\n",
       "      <td>0.00</td>\n",
       "      <td>0.00</td>\n",
       "      <td>10.03</td>\n",
       "      <td>2.27</td>\n",
       "      <td>18.77</td>\n",
       "    </tr>\n",
       "    <tr>\n",
       "      <th>...</th>\n",
       "      <td>...</td>\n",
       "      <td>...</td>\n",
       "      <td>...</td>\n",
       "      <td>...</td>\n",
       "      <td>...</td>\n",
       "      <td>...</td>\n",
       "      <td>...</td>\n",
       "    </tr>\n",
       "    <tr>\n",
       "      <th>5930</th>\n",
       "      <td>84.82</td>\n",
       "      <td>14.19</td>\n",
       "      <td>0.00</td>\n",
       "      <td>1.00</td>\n",
       "      <td>0.00</td>\n",
       "      <td>0.00</td>\n",
       "      <td>0.00</td>\n",
       "    </tr>\n",
       "    <tr>\n",
       "      <th>5935</th>\n",
       "      <td>8.58</td>\n",
       "      <td>91.42</td>\n",
       "      <td>0.00</td>\n",
       "      <td>0.00</td>\n",
       "      <td>0.00</td>\n",
       "      <td>0.00</td>\n",
       "      <td>0.00</td>\n",
       "    </tr>\n",
       "    <tr>\n",
       "      <th>5939</th>\n",
       "      <td>77.87</td>\n",
       "      <td>21.75</td>\n",
       "      <td>0.00</td>\n",
       "      <td>0.00</td>\n",
       "      <td>0.00</td>\n",
       "      <td>0.39</td>\n",
       "      <td>0.00</td>\n",
       "    </tr>\n",
       "    <tr>\n",
       "      <th>5940</th>\n",
       "      <td>35.08</td>\n",
       "      <td>27.64</td>\n",
       "      <td>0.00</td>\n",
       "      <td>2.47</td>\n",
       "      <td>0.00</td>\n",
       "      <td>34.81</td>\n",
       "      <td>0.00</td>\n",
       "    </tr>\n",
       "    <tr>\n",
       "      <th>5941</th>\n",
       "      <td>0.32</td>\n",
       "      <td>97.12</td>\n",
       "      <td>0.00</td>\n",
       "      <td>2.56</td>\n",
       "      <td>0.00</td>\n",
       "      <td>0.00</td>\n",
       "      <td>0.00</td>\n",
       "    </tr>\n",
       "  </tbody>\n",
       "</table>\n",
       "<p>2967 rows × 7 columns</p>\n",
       "</div>"
      ],
      "text/plain": [
       "category           DEPOSIT  EXTERNAL_TRANSFER  INSURANCE  INVESTMENT_INCOME  \\\n",
       "prism_consumer_id                                                             \n",
       "0                     3.19              39.84       0.00               0.00   \n",
       "2                    13.69               4.83       0.02              81.46   \n",
       "4                    15.01               3.60       0.00               0.00   \n",
       "7                     0.04               1.07       0.00               0.35   \n",
       "9                    56.23              12.70       0.00               0.00   \n",
       "...                    ...                ...        ...                ...   \n",
       "5930                 84.82              14.19       0.00               1.00   \n",
       "5935                  8.58              91.42       0.00               0.00   \n",
       "5939                 77.87              21.75       0.00               0.00   \n",
       "5940                 35.08              27.64       0.00               2.47   \n",
       "5941                  0.32              97.12       0.00               2.56   \n",
       "\n",
       "category           OTHER_BENEFITS  PAYCHECK  UNEMPLOYMENT_BENEFITS  \n",
       "prism_consumer_id                                                   \n",
       "0                            0.00     56.97                   0.00  \n",
       "2                            0.00      0.00                   0.00  \n",
       "4                            0.00     81.40                   0.00  \n",
       "7                            0.00     98.55                   0.00  \n",
       "9                           10.03      2.27                  18.77  \n",
       "...                           ...       ...                    ...  \n",
       "5930                         0.00      0.00                   0.00  \n",
       "5935                         0.00      0.00                   0.00  \n",
       "5939                         0.00      0.39                   0.00  \n",
       "5940                         0.00     34.81                   0.00  \n",
       "5941                         0.00      0.00                   0.00  \n",
       "\n",
       "[2967 rows x 7 columns]"
      ]
     },
     "execution_count": 96,
     "metadata": {},
     "output_type": "execute_result"
    }
   ],
   "source": [
    "pivot_table"
   ]
  },
  {
   "cell_type": "code",
   "execution_count": 97,
   "metadata": {},
   "outputs": [],
   "source": [
    "# calculate average breakdown across all users\n",
    "average_breakdown = pivot_table.mean().round(2)\n",
    "std_breakdown = pivot_table.std().round(2)\n",
    "\n",
    "summary = pd.DataFrame({\n",
    "    'Average Percentage': average_breakdown,\n",
    "    'Standard Deviation': std_breakdown\n",
    "}).sort_values(\"Average Percentage\", ascending = False)"
   ]
  },
  {
   "cell_type": "code",
   "execution_count": 98,
   "metadata": {},
   "outputs": [
    {
     "data": {
      "text/html": [
       "<div>\n",
       "<style scoped>\n",
       "    .dataframe tbody tr th:only-of-type {\n",
       "        vertical-align: middle;\n",
       "    }\n",
       "\n",
       "    .dataframe tbody tr th {\n",
       "        vertical-align: top;\n",
       "    }\n",
       "\n",
       "    .dataframe thead th {\n",
       "        text-align: right;\n",
       "    }\n",
       "</style>\n",
       "<table border=\"1\" class=\"dataframe\">\n",
       "  <thead>\n",
       "    <tr style=\"text-align: right;\">\n",
       "      <th></th>\n",
       "      <th>Average Percentage</th>\n",
       "      <th>Standard Deviation</th>\n",
       "    </tr>\n",
       "    <tr>\n",
       "      <th>category</th>\n",
       "      <th></th>\n",
       "      <th></th>\n",
       "    </tr>\n",
       "  </thead>\n",
       "  <tbody>\n",
       "    <tr>\n",
       "      <th>PAYCHECK</th>\n",
       "      <td>41.37</td>\n",
       "      <td>35.49</td>\n",
       "    </tr>\n",
       "    <tr>\n",
       "      <th>EXTERNAL_TRANSFER</th>\n",
       "      <td>27.31</td>\n",
       "      <td>28.01</td>\n",
       "    </tr>\n",
       "    <tr>\n",
       "      <th>DEPOSIT</th>\n",
       "      <td>21.99</td>\n",
       "      <td>27.51</td>\n",
       "    </tr>\n",
       "    <tr>\n",
       "      <th>OTHER_BENEFITS</th>\n",
       "      <td>6.30</td>\n",
       "      <td>19.25</td>\n",
       "    </tr>\n",
       "    <tr>\n",
       "      <th>INVESTMENT_INCOME</th>\n",
       "      <td>2.30</td>\n",
       "      <td>9.63</td>\n",
       "    </tr>\n",
       "    <tr>\n",
       "      <th>UNEMPLOYMENT_BENEFITS</th>\n",
       "      <td>0.60</td>\n",
       "      <td>4.29</td>\n",
       "    </tr>\n",
       "    <tr>\n",
       "      <th>INSURANCE</th>\n",
       "      <td>0.14</td>\n",
       "      <td>2.70</td>\n",
       "    </tr>\n",
       "  </tbody>\n",
       "</table>\n",
       "</div>"
      ],
      "text/plain": [
       "                       Average Percentage  Standard Deviation\n",
       "category                                                     \n",
       "PAYCHECK                            41.37               35.49\n",
       "EXTERNAL_TRANSFER                   27.31               28.01\n",
       "DEPOSIT                             21.99               27.51\n",
       "OTHER_BENEFITS                       6.30               19.25\n",
       "INVESTMENT_INCOME                    2.30                9.63\n",
       "UNEMPLOYMENT_BENEFITS                0.60                4.29\n",
       "INSURANCE                            0.14                2.70"
      ]
     },
     "execution_count": 98,
     "metadata": {},
     "output_type": "execute_result"
    }
   ],
   "source": [
    "summary"
   ]
  },
  {
   "cell_type": "code",
   "execution_count": null,
   "metadata": {},
   "outputs": [],
   "source": []
  }
 ],
 "metadata": {
  "kernelspec": {
   "display_name": "base",
   "language": "python",
   "name": "python3"
  },
  "language_info": {
   "codemirror_mode": {
    "name": "ipython",
    "version": 3
   },
   "file_extension": ".py",
   "mimetype": "text/x-python",
   "name": "python",
   "nbconvert_exporter": "python",
   "pygments_lexer": "ipython3",
   "version": "3.11.5"
  }
 },
 "nbformat": 4,
 "nbformat_minor": 2
}
